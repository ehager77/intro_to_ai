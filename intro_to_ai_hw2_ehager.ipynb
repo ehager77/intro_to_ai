{
 "cells": [
  {
   "cell_type": "code",
   "execution_count": 215,
   "metadata": {},
   "outputs": [],
   "source": [
    "import pandas as pd\n",
    "import numpy as np\n",
    "import matplotlib.pyplot as plt\n",
    "from scipy import stats"
   ]
  },
  {
   "cell_type": "code",
   "execution_count": 216,
   "metadata": {},
   "outputs": [],
   "source": [
    "data = './hw2.csv'"
   ]
  },
  {
   "cell_type": "code",
   "execution_count": 217,
   "metadata": {},
   "outputs": [],
   "source": [
    "twitter_data = pd.read_csv(data)\n",
    "twitter_data = twitter_data.replace('null;', 0)"
   ]
  },
  {
   "cell_type": "code",
   "execution_count": 218,
   "metadata": {},
   "outputs": [],
   "source": [
    "twitter_data = twitter_data.head(250)"
   ]
  },
  {
   "cell_type": "code",
   "execution_count": 219,
   "metadata": {},
   "outputs": [],
   "source": [
    "twitter_data['Positive_sentiment'] = twitter_data['Sentiment'].str[0].astype(int)\n",
    "twitter_data['Negative_sentiment'] = twitter_data['Sentiment'].str[2:4].astype(int)"
   ]
  },
  {
   "cell_type": "code",
   "execution_count": 220,
   "metadata": {},
   "outputs": [],
   "source": [
    "twitter_data = twitter_data.drop(columns=['Sentiment', 'Entities'])"
   ]
  },
  {
   "cell_type": "code",
   "execution_count": 221,
   "metadata": {},
   "outputs": [],
   "source": [
    "twitter_data['Tweet_day'] = twitter_data['Timestamp'].str[0:3]"
   ]
  },
  {
   "cell_type": "code",
   "execution_count": 222,
   "metadata": {},
   "outputs": [],
   "source": [
    "twitter_data['Tweet_hour'] = twitter_data['Timestamp'].str[10:13].astype(int)"
   ]
  },
  {
   "cell_type": "code",
   "execution_count": 223,
   "metadata": {},
   "outputs": [],
   "source": [
    "twitter_data['#Mentions'] = twitter_data['Mentions'].str.split()\n",
    "twitter_data['#Mentions'] = twitter_data['#Mentions'].str.len()\n",
    "twitter_data['#Mentions'] = twitter_data['#Mentions'].fillna(0)\n",
    "twitter_data['#Mentions'] = twitter_data['#Mentions'].astype(int)"
   ]
  },
  {
   "cell_type": "code",
   "execution_count": 224,
   "metadata": {},
   "outputs": [],
   "source": [
    "twitter_data['#Hashtags'] = twitter_data['Hashtags'].str.split()\n",
    "twitter_data['#Hashtags'] = twitter_data['#Hashtags'].str.len()\n",
    "twitter_data['#Hashtags'] = twitter_data['#Hashtags'].fillna(0)\n",
    "twitter_data['#Hashtags'] = twitter_data['#Hashtags'].astype(int)"
   ]
  },
  {
   "cell_type": "code",
   "execution_count": 225,
   "metadata": {},
   "outputs": [
    {
     "data": {
      "text/html": [
       "<div>\n",
       "<style scoped>\n",
       "    .dataframe tbody tr th:only-of-type {\n",
       "        vertical-align: middle;\n",
       "    }\n",
       "\n",
       "    .dataframe tbody tr th {\n",
       "        vertical-align: top;\n",
       "    }\n",
       "\n",
       "    .dataframe thead th {\n",
       "        text-align: right;\n",
       "    }\n",
       "</style>\n",
       "<table border=\"1\" class=\"dataframe\">\n",
       "  <thead>\n",
       "    <tr style=\"text-align: right;\">\n",
       "      <th></th>\n",
       "      <th>Tweet ID</th>\n",
       "      <th>Username</th>\n",
       "      <th>Timestamp</th>\n",
       "      <th>#Followers</th>\n",
       "      <th>#Friends</th>\n",
       "      <th>#Retweets</th>\n",
       "      <th>#Favorites</th>\n",
       "      <th>Mentions</th>\n",
       "      <th>Hashtags</th>\n",
       "      <th>URLs</th>\n",
       "      <th>Positive_sentiment</th>\n",
       "      <th>Negative_sentiment</th>\n",
       "      <th>Tweet_day</th>\n",
       "      <th>Tweet_hour</th>\n",
       "      <th>#Mentions</th>\n",
       "      <th>#Hashtags</th>\n",
       "    </tr>\n",
       "  </thead>\n",
       "  <tbody>\n",
       "    <tr>\n",
       "      <th>0</th>\n",
       "      <td>1178791787386814465</td>\n",
       "      <td>35234fe4a19cc1a3336095fb3780bcc1</td>\n",
       "      <td>Mon Sep 30 22:00:37 +0000 2019</td>\n",
       "      <td>619.0</td>\n",
       "      <td>770.0</td>\n",
       "      <td>0.5</td>\n",
       "      <td>0.5</td>\n",
       "      <td>0.5</td>\n",
       "      <td>0.5</td>\n",
       "      <td>0.5</td>\n",
       "      <td>2</td>\n",
       "      <td>-1</td>\n",
       "      <td>Mon</td>\n",
       "      <td>22.0</td>\n",
       "      <td>0.5</td>\n",
       "      <td>0.5</td>\n",
       "    </tr>\n",
       "    <tr>\n",
       "      <th>1</th>\n",
       "      <td>1178791985106153472</td>\n",
       "      <td>ea4592f39636d87af8fb4b17b7e2e4c0</td>\n",
       "      <td>Mon Sep 30 22:01:24 +0000 2019</td>\n",
       "      <td>36365.0</td>\n",
       "      <td>19344.0</td>\n",
       "      <td>13.0</td>\n",
       "      <td>17.0</td>\n",
       "      <td>0.5</td>\n",
       "      <td>0.5</td>\n",
       "      <td>https://twitter.com/himalayahawk/status/117766...</td>\n",
       "      <td>1</td>\n",
       "      <td>-4</td>\n",
       "      <td>Mon</td>\n",
       "      <td>22.0</td>\n",
       "      <td>0.5</td>\n",
       "      <td>0.5</td>\n",
       "    </tr>\n",
       "    <tr>\n",
       "      <th>2</th>\n",
       "      <td>1178793230223183872</td>\n",
       "      <td>bf05d1888dd974fa4a8679c25e2ead03</td>\n",
       "      <td>Mon Sep 30 22:06:21 +0000 2019</td>\n",
       "      <td>5018.0</td>\n",
       "      <td>1933.0</td>\n",
       "      <td>0.5</td>\n",
       "      <td>0.5</td>\n",
       "      <td>0.5</td>\n",
       "      <td>0.5</td>\n",
       "      <td>https://goo.gl/fb/uoeiPk:-:</td>\n",
       "      <td>2</td>\n",
       "      <td>-1</td>\n",
       "      <td>Mon</td>\n",
       "      <td>22.0</td>\n",
       "      <td>0.5</td>\n",
       "      <td>0.5</td>\n",
       "    </tr>\n",
       "    <tr>\n",
       "      <th>3</th>\n",
       "      <td>1178795172206919680</td>\n",
       "      <td>eb8a99bca8945eab1d006750e9b75518</td>\n",
       "      <td>Mon Sep 30 22:14:04 +0000 2019</td>\n",
       "      <td>2219.0</td>\n",
       "      <td>971.0</td>\n",
       "      <td>0.5</td>\n",
       "      <td>0.5</td>\n",
       "      <td>0.5</td>\n",
       "      <td>0.5</td>\n",
       "      <td>0.5</td>\n",
       "      <td>2</td>\n",
       "      <td>-1</td>\n",
       "      <td>Mon</td>\n",
       "      <td>22.0</td>\n",
       "      <td>0.5</td>\n",
       "      <td>0.5</td>\n",
       "    </tr>\n",
       "    <tr>\n",
       "      <th>4</th>\n",
       "      <td>1178798309491822592</td>\n",
       "      <td>00695cf79d60e86a5d0f872f4358337a</td>\n",
       "      <td>Mon Sep 30 22:26:32 +0000 2019</td>\n",
       "      <td>9009.0</td>\n",
       "      <td>4943.0</td>\n",
       "      <td>26.0</td>\n",
       "      <td>89.0</td>\n",
       "      <td>0.5</td>\n",
       "      <td>VFS</td>\n",
       "      <td>0.5</td>\n",
       "      <td>2</td>\n",
       "      <td>-1</td>\n",
       "      <td>Mon</td>\n",
       "      <td>22.0</td>\n",
       "      <td>0.5</td>\n",
       "      <td>1.0</td>\n",
       "    </tr>\n",
       "    <tr>\n",
       "      <th>...</th>\n",
       "      <td>...</td>\n",
       "      <td>...</td>\n",
       "      <td>...</td>\n",
       "      <td>...</td>\n",
       "      <td>...</td>\n",
       "      <td>...</td>\n",
       "      <td>...</td>\n",
       "      <td>...</td>\n",
       "      <td>...</td>\n",
       "      <td>...</td>\n",
       "      <td>...</td>\n",
       "      <td>...</td>\n",
       "      <td>...</td>\n",
       "      <td>...</td>\n",
       "      <td>...</td>\n",
       "      <td>...</td>\n",
       "    </tr>\n",
       "    <tr>\n",
       "      <th>245</th>\n",
       "      <td>1179043836389183489</td>\n",
       "      <td>cdb828e7bbf3482afa6667ce63fb3317</td>\n",
       "      <td>Tue Oct 01 14:42:10 +0000 2019</td>\n",
       "      <td>72504.0</td>\n",
       "      <td>2114.0</td>\n",
       "      <td>19.0</td>\n",
       "      <td>43.0</td>\n",
       "      <td>0.5</td>\n",
       "      <td>0.5</td>\n",
       "      <td>0.5</td>\n",
       "      <td>1</td>\n",
       "      <td>-2</td>\n",
       "      <td>Tue</td>\n",
       "      <td>14.0</td>\n",
       "      <td>0.5</td>\n",
       "      <td>0.5</td>\n",
       "    </tr>\n",
       "    <tr>\n",
       "      <th>246</th>\n",
       "      <td>1179044916338540545</td>\n",
       "      <td>517c7dbdda03fa882d441edb019d8a66</td>\n",
       "      <td>Tue Oct 01 14:46:28 +0000 2019</td>\n",
       "      <td>10192.0</td>\n",
       "      <td>9366.0</td>\n",
       "      <td>11.0</td>\n",
       "      <td>59.0</td>\n",
       "      <td>DKShrewsbury asabenn</td>\n",
       "      <td>0.5</td>\n",
       "      <td>0.5</td>\n",
       "      <td>2</td>\n",
       "      <td>-2</td>\n",
       "      <td>Tue</td>\n",
       "      <td>14.0</td>\n",
       "      <td>2.0</td>\n",
       "      <td>0.5</td>\n",
       "    </tr>\n",
       "    <tr>\n",
       "      <th>247</th>\n",
       "      <td>1179045882530091008</td>\n",
       "      <td>7e66b5f66baef784a0630b0ae7937c97</td>\n",
       "      <td>Tue Oct 01 14:50:18 +0000 2019</td>\n",
       "      <td>25530.0</td>\n",
       "      <td>1041.0</td>\n",
       "      <td>0.5</td>\n",
       "      <td>0.5</td>\n",
       "      <td>davidmackau</td>\n",
       "      <td>0.5</td>\n",
       "      <td>0.5</td>\n",
       "      <td>1</td>\n",
       "      <td>-1</td>\n",
       "      <td>Tue</td>\n",
       "      <td>14.0</td>\n",
       "      <td>1.0</td>\n",
       "      <td>0.5</td>\n",
       "    </tr>\n",
       "    <tr>\n",
       "      <th>248</th>\n",
       "      <td>1179046307878408192</td>\n",
       "      <td>8a02f454da9c53ef904d00a59c502c70</td>\n",
       "      <td>Tue Oct 01 14:52:00 +0000 2019</td>\n",
       "      <td>1814695.0</td>\n",
       "      <td>1189531.0</td>\n",
       "      <td>137.0</td>\n",
       "      <td>254.0</td>\n",
       "      <td>0.5</td>\n",
       "      <td>0.5</td>\n",
       "      <td>0.5</td>\n",
       "      <td>1</td>\n",
       "      <td>-1</td>\n",
       "      <td>Tue</td>\n",
       "      <td>14.0</td>\n",
       "      <td>0.5</td>\n",
       "      <td>0.5</td>\n",
       "    </tr>\n",
       "    <tr>\n",
       "      <th>249</th>\n",
       "      <td>1179046465513148417</td>\n",
       "      <td>e455a8c2987edcc3b3adfac412fa9042</td>\n",
       "      <td>Tue Oct 01 14:52:37 +0000 2019</td>\n",
       "      <td>350.0</td>\n",
       "      <td>279.0</td>\n",
       "      <td>0.5</td>\n",
       "      <td>0.5</td>\n",
       "      <td>0.5</td>\n",
       "      <td>0.5</td>\n",
       "      <td>0.5</td>\n",
       "      <td>1</td>\n",
       "      <td>-3</td>\n",
       "      <td>Tue</td>\n",
       "      <td>14.0</td>\n",
       "      <td>0.5</td>\n",
       "      <td>0.5</td>\n",
       "    </tr>\n",
       "  </tbody>\n",
       "</table>\n",
       "<p>250 rows × 16 columns</p>\n",
       "</div>"
      ],
      "text/plain": [
       "                Tweet ID                          Username  \\\n",
       "0    1178791787386814465  35234fe4a19cc1a3336095fb3780bcc1   \n",
       "1    1178791985106153472  ea4592f39636d87af8fb4b17b7e2e4c0   \n",
       "2    1178793230223183872  bf05d1888dd974fa4a8679c25e2ead03   \n",
       "3    1178795172206919680  eb8a99bca8945eab1d006750e9b75518   \n",
       "4    1178798309491822592  00695cf79d60e86a5d0f872f4358337a   \n",
       "..                   ...                               ...   \n",
       "245  1179043836389183489  cdb828e7bbf3482afa6667ce63fb3317   \n",
       "246  1179044916338540545  517c7dbdda03fa882d441edb019d8a66   \n",
       "247  1179045882530091008  7e66b5f66baef784a0630b0ae7937c97   \n",
       "248  1179046307878408192  8a02f454da9c53ef904d00a59c502c70   \n",
       "249  1179046465513148417  e455a8c2987edcc3b3adfac412fa9042   \n",
       "\n",
       "                          Timestamp  #Followers   #Friends  #Retweets  \\\n",
       "0    Mon Sep 30 22:00:37 +0000 2019       619.0      770.0        0.5   \n",
       "1    Mon Sep 30 22:01:24 +0000 2019     36365.0    19344.0       13.0   \n",
       "2    Mon Sep 30 22:06:21 +0000 2019      5018.0     1933.0        0.5   \n",
       "3    Mon Sep 30 22:14:04 +0000 2019      2219.0      971.0        0.5   \n",
       "4    Mon Sep 30 22:26:32 +0000 2019      9009.0     4943.0       26.0   \n",
       "..                              ...         ...        ...        ...   \n",
       "245  Tue Oct 01 14:42:10 +0000 2019     72504.0     2114.0       19.0   \n",
       "246  Tue Oct 01 14:46:28 +0000 2019     10192.0     9366.0       11.0   \n",
       "247  Tue Oct 01 14:50:18 +0000 2019     25530.0     1041.0        0.5   \n",
       "248  Tue Oct 01 14:52:00 +0000 2019   1814695.0  1189531.0      137.0   \n",
       "249  Tue Oct 01 14:52:37 +0000 2019       350.0      279.0        0.5   \n",
       "\n",
       "     #Favorites              Mentions Hashtags  \\\n",
       "0           0.5                   0.5      0.5   \n",
       "1          17.0                   0.5      0.5   \n",
       "2           0.5                   0.5      0.5   \n",
       "3           0.5                   0.5      0.5   \n",
       "4          89.0                   0.5      VFS   \n",
       "..          ...                   ...      ...   \n",
       "245        43.0                   0.5      0.5   \n",
       "246        59.0  DKShrewsbury asabenn      0.5   \n",
       "247         0.5           davidmackau      0.5   \n",
       "248       254.0                   0.5      0.5   \n",
       "249         0.5                   0.5      0.5   \n",
       "\n",
       "                                                  URLs  Positive_sentiment  \\\n",
       "0                                                  0.5                   2   \n",
       "1    https://twitter.com/himalayahawk/status/117766...                   1   \n",
       "2                          https://goo.gl/fb/uoeiPk:-:                   2   \n",
       "3                                                  0.5                   2   \n",
       "4                                                  0.5                   2   \n",
       "..                                                 ...                 ...   \n",
       "245                                                0.5                   1   \n",
       "246                                                0.5                   2   \n",
       "247                                                0.5                   1   \n",
       "248                                                0.5                   1   \n",
       "249                                                0.5                   1   \n",
       "\n",
       "     Negative_sentiment Tweet_day  Tweet_hour  #Mentions  #Hashtags  \n",
       "0                    -1       Mon        22.0        0.5        0.5  \n",
       "1                    -4       Mon        22.0        0.5        0.5  \n",
       "2                    -1       Mon        22.0        0.5        0.5  \n",
       "3                    -1       Mon        22.0        0.5        0.5  \n",
       "4                    -1       Mon        22.0        0.5        1.0  \n",
       "..                  ...       ...         ...        ...        ...  \n",
       "245                  -2       Tue        14.0        0.5        0.5  \n",
       "246                  -2       Tue        14.0        2.0        0.5  \n",
       "247                  -1       Tue        14.0        1.0        0.5  \n",
       "248                  -1       Tue        14.0        0.5        0.5  \n",
       "249                  -3       Tue        14.0        0.5        0.5  \n",
       "\n",
       "[250 rows x 16 columns]"
      ]
     },
     "execution_count": 225,
     "metadata": {},
     "output_type": "execute_result"
    }
   ],
   "source": [
    "twitter_data = twitter_data.replace(0, .5)\n",
    "twitter_data"
   ]
  },
  {
   "cell_type": "code",
   "execution_count": 226,
   "metadata": {},
   "outputs": [],
   "source": [
    "twitter_data['#Followers_log'] = np.log(twitter_data['#Followers'])\n",
    "twitter_data['#Friends_log'] = np.log(twitter_data['#Friends'])\n",
    "twitter_data['#Favorites_log'] = np.log(twitter_data['#Favorites'] )"
   ]
  },
  {
   "cell_type": "code",
   "execution_count": 231,
   "metadata": {},
   "outputs": [
    {
     "name": "stdout",
     "output_type": "stream",
     "text": [
      "Skew coefficient:  0.6755736417277004\n"
     ]
    },
    {
     "data": {
      "image/png": "[encoded data removed]",
      "text/plain": [
       "<Figure size 432x288 with 1 Axes>"
      ]
     },
     "metadata": {
      "needs_background": "light"
     },
     "output_type": "display_data"
    }
   ],
   "source": [
    "log_num_followers_hist = plt.hist(twitter_data['#Followers_log'], bins=30)\n",
    "print('Skew coefficient: ', twitter_data['#Followers_log'].skew())"
   ]
  },
  {
   "cell_type": "code",
   "execution_count": 230,
   "metadata": {},
   "outputs": [
    {
     "name": "stdout",
     "output_type": "stream",
     "text": [
      "Skew coefficient:  -0.012596726530577805\n"
     ]
    },
    {
     "data": {
      "image/png": "[encoded data removed]",
      "text/plain": [
       "<Figure size 432x288 with 1 Axes>"
      ]
     },
     "metadata": {
      "needs_background": "light"
     },
     "output_type": "display_data"
    }
   ],
   "source": [
    "num_friends_hist = plt.hist(twitter_data['#Friends_log'], bins=30)\n",
    "print('Skew coefficient: ', twitter_data['#Friends_log'].skew())"
   ]
  },
  {
   "cell_type": "code",
   "execution_count": 229,
   "metadata": {},
   "outputs": [
    {
     "name": "stdout",
     "output_type": "stream",
     "text": [
      "Skew coefficient:  1.2438052441628231\n"
     ]
    },
    {
     "data": {
      "image/png": "[encoded data removed]",
      "text/plain": [
       "<Figure size 432x288 with 1 Axes>"
      ]
     },
     "metadata": {
      "needs_background": "light"
     },
     "output_type": "display_data"
    }
   ],
   "source": [
    "num_friends_hist = plt.hist(twitter_data['#Favorites_log'], bins=30)\n",
    "print('Skew coefficient: ', twitter_data['#Favorites_log'].skew())"
   ]
  },
  {
   "cell_type": "code",
   "execution_count": null,
   "metadata": {},
   "outputs": [],
   "source": []
  }
 ],
 "metadata": {
  "kernelspec": {
   "display_name": "Python 3",
   "language": "python",
   "name": "python3"
  },
  "language_info": {
   "codemirror_mode": {
    "name": "ipython",
    "version": 3
   },
   "file_extension": ".py",
   "mimetype": "text/x-python",
   "name": "python",
   "nbconvert_exporter": "python",
   "pygments_lexer": "ipython3",
   "version": "3.6.5"
  }
 },
 "nbformat": 4,
 "nbformat_minor": 4
}
