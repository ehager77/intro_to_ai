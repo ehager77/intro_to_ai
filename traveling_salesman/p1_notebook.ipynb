{
 "cells": [
  {
   "cell_type": "code",
   "execution_count": null,
   "metadata": {},
   "outputs": [],
   "source": [
    "# Step 1: Import ORTools and pandas package to load distance_matrix.csv as a pandas Dataframe.\n",
    "# Step 2: Store the filepaths for the data in globaln variables\n",
    "# Step 3: I define a fuction loadData() which first opens the file with the locations data and appends the locations to a list.\n",
    "# Step 4: loadData() also reads distances.csv as a Dataframe which I then convert to a list of lists via the .tolist() method per Google ORTools documentation.\n",
    "# Step 5: Returns a data object with both the locations and distances lists."
   ]
  },
  {
   "cell_type": "code",
   "execution_count": 1,
   "metadata": {},
   "outputs": [],
   "source": [
    "from ortools.constraint_solver import routing_enums_pb2\n",
    "from ortools.constraint_solver import pywrapcp\n",
    "import pandas as pd\n",
    "\n",
    "loc_file = './locations.txt'\n",
    "dist_file = './distances.csv'\n",
    "\n",
    "def loadData():\n",
    "    locations = []\n",
    "    lf = open(loc_file, 'r') \n",
    "    while True: \n",
    "        line = lf.readline() \n",
    "        if not line: \n",
    "            break\n",
    "        locations.append(line.strip())\n",
    "    lf.close() \n",
    "    \n",
    "    distances = pd.read_csv(dist_file, header=None)\n",
    "    distances = distances.values.tolist()\n",
    "    data = {'distances': distances, 'locations': locations}\n",
    "    return data"
   ]
  },
  {
   "cell_type": "code",
   "execution_count": 2,
   "metadata": {},
   "outputs": [],
   "source": [
    "# Step 7: I define a function called create_data_model per Google ORTools API.\n",
    "# Step 8: I initialize an emptt dictionary called data\n",
    "# Step 9: I create an entry in the dictionary with a key of 'distance_matrix' and store the distances matrix returned by loadData() as the value\n",
    "# Step 10: Given this is a TSP problem and there is only one route to optimize, I set the value of the 'num_vehicles' key in the dictionary to 1\n",
    "# Step 11: I set the value of data['depot'] to zero to corresponds to the origin point.\n",
    "# Step 12:  I then return the newly populated dictionary"
   ]
  },
  {
   "cell_type": "code",
   "execution_count": 3,
   "metadata": {},
   "outputs": [],
   "source": [
    "def create_data_model():\n",
    "    \"\"\"Stores the data for the problem.\"\"\"\n",
    "    data = {}\n",
    "    data['distance_matrix'] = loadData()['distances']\n",
    "    data['num_vehicles'] = 1\n",
    "    data['depot'] = 0\n",
    "    return data"
   ]
  },
  {
   "cell_type": "code",
   "execution_count": 4,
   "metadata": {},
   "outputs": [],
   "source": [
    "# Step 13: I define a function called get_routes per Google ORTools API.  This function returns a list of optimal routes for the vehicles specified in create_data_model()\n",
    "# Given there is only one vehicle to route in a TSP, only one route is appended to the list."
   ]
  },
  {
   "cell_type": "code",
   "execution_count": 5,
   "metadata": {},
   "outputs": [],
   "source": [
    "def get_routes(solution, routing, manager):\n",
    "  \"\"\"Get vehicle routes from a solution and store them in an array.\"\"\"\n",
    "  # Get vehicle routes and store them in a two dimensional array whose\n",
    "  # i,j entry is the jth location visited by vehicle i along its route.\n",
    "  routes = []\n",
    "  for route_nbr in range(routing.vehicles()):\n",
    "    index = routing.Start(route_nbr)\n",
    "    route = [manager.IndexToNode(index)]\n",
    "    while not routing.IsEnd(index):\n",
    "      index = solution.Value(routing.NextVar(index))\n",
    "      route.append(manager.IndexToNode(index))\n",
    "    routes.append(route)\n",
    "  return routes"
   ]
  },
  {
   "cell_type": "code",
   "execution_count": 6,
   "metadata": {},
   "outputs": [],
   "source": [
    "# Step 14: I define a function called print_solution per Google ORTools API and load the list of location names.\n",
    "# Step 15: I call the get_routes() function which returns a list of optimal routes.  In my case, the list only contains one route.\n",
    "# Step 16: I extract the route from the routes list and store it in a variable called 'solution'.\n",
    "# Step 17: In order to display the location names rather than their index value, I use a list comprehension to assign the location name to its corresponding index value."
   ]
  },
  {
   "cell_type": "code",
   "execution_count": 7,
   "metadata": {},
   "outputs": [],
   "source": [
    "def print_solution(solution, routing, manager):\n",
    "    locations = loadData()['locations']\n",
    "    routes = get_routes(solution, routing, manager)\n",
    "    solution = routes[0]\n",
    "    solution = [locations[num] for num in solution]\n",
    "    solution_str = ''\n",
    "    for s in solution:\n",
    "        solution_str += s + ' -> ' \n",
    "    print('Optimal Route:')\n",
    "    print(solution_str[:-3])"
   ]
  },
  {
   "cell_type": "code",
   "execution_count": 8,
   "metadata": {},
   "outputs": [],
   "source": [
    "# Step 18: I define a function called main() per Google ORTools API.\n",
    "# Step 19: The main function solves the TSP and stores the solution in a variable called 'solution' which is then passed a parameter for the print_solution() function\n",
    "# Step 20: The print solution is called within the main fucntion so once main is called the solution will be printed in the console."
   ]
  },
  {
   "cell_type": "code",
   "execution_count": 9,
   "metadata": {},
   "outputs": [
    {
     "name": "stdout",
     "output_type": "stream",
     "text": [
      "Optimal Route:\n",
      "St. Stephan's Cathedral, Austria -> Brugge, Belgium -> Edinburgh, Scotland -> Teide, Spain -> Montreal, Canada -> Brisbane, Australia -> Itsukushima Shrine, Japan -> Shanghai, China -> Tallinn, Estonia -> Stockholm, Sweden -> St. Stephan's Cathedral, Austria \n"
     ]
    }
   ],
   "source": [
    "def main():\n",
    "    \"\"\"Entry point of the program.\"\"\"\n",
    "    # Instantiate the data problem.\n",
    "    data = create_data_model()\n",
    "\n",
    "    # Create the routing index manager.\n",
    "    manager = pywrapcp.RoutingIndexManager(len(data['distance_matrix']),\n",
    "                                           data['num_vehicles'], data['depot'])\n",
    "\n",
    "    # Create Routing Model.\n",
    "    routing = pywrapcp.RoutingModel(manager)\n",
    "\n",
    "    def distance_callback(from_index, to_index):\n",
    "        \"\"\"Returns the distance between the two nodes.\"\"\"\n",
    "        # Convert from routing variable Index to distance matrix NodeIndex.\n",
    "        from_node = manager.IndexToNode(from_index)\n",
    "        to_node = manager.IndexToNode(to_index)\n",
    "        return data['distance_matrix'][from_node][to_node]\n",
    "\n",
    "    transit_callback_index = routing.RegisterTransitCallback(distance_callback)\n",
    "\n",
    "    # Define cost of each arc.\n",
    "    routing.SetArcCostEvaluatorOfAllVehicles(transit_callback_index)\n",
    "\n",
    "    # Setting first solution heuristic.\n",
    "    search_parameters = pywrapcp.DefaultRoutingSearchParameters()\n",
    "    search_parameters.first_solution_strategy = (\n",
    "        routing_enums_pb2.FirstSolutionStrategy.PATH_CHEAPEST_ARC)\n",
    "\n",
    "    # Solve the problem.\n",
    "    solution = routing.SolveWithParameters(search_parameters)\n",
    "\n",
    "    # Print solution on console.\n",
    "    if solution:\n",
    "        print_solution(solution, routing, manager)\n",
    "\n",
    "\n",
    "if __name__ == '__main__':\n",
    "    main()"
   ]
  },
  {
   "cell_type": "code",
   "execution_count": null,
   "metadata": {},
   "outputs": [],
   "source": []
  }
 ],
 "metadata": {
  "kernelspec": {
   "display_name": "Python 3",
   "language": "python",
   "name": "python3"
  },
  "language_info": {
   "codemirror_mode": {
    "name": "ipython",
    "version": 3
   },
   "file_extension": ".py",
   "mimetype": "text/x-python",
   "name": "python",
   "nbconvert_exporter": "python",
   "pygments_lexer": "ipython3",
   "version": "3.6.5"
  }
 },
 "nbformat": 4,
 "nbformat_minor": 4
}
