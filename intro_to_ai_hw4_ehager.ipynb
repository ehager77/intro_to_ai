{
  "nbformat": 4,
  "nbformat_minor": 0,
  "metadata": {
    "colab": {
      "name": "intro_to_ai_hw4_ehager.ipynb",
      "provenance": [],
      "collapsed_sections": [],
      "include_colab_link": true
    },
    "kernelspec": {
      "name": "python3",
      "display_name": "Python 3"
    }
  },
  "cells": [
    {
      "cell_type": "markdown",
      "metadata": {
        "id": "view-in-github",
        "colab_type": "text"
      },
      "source": [
        "<a href=\"https://colab.research.google.com/github/ehager77/intro_to_ai/blob/master/intro_to_ai_hw4_ehager.ipynb\" target=\"_parent\"><img src=\"https://colab.research.google.com/assets/colab-badge.svg\" alt=\"Open In Colab\"/></a>"
      ]
    },
    {
      "cell_type": "code",
      "metadata": {
        "id": "tFVHIz9TpQaZ"
      },
      "source": [
        "# Importing the required packages\n",
        "\n",
        "import os\n",
        "import re\n",
        "\n",
        "import pandas as pd\n",
        "import numpy as np\n",
        "\n",
        "import seaborn as sn\n",
        "import gensim\n",
        "import nltk\n",
        "nltk.download('stopwords')\n",
        "nltk.download('wordnet')\n",
        "from nltk.corpus import stopwords \n",
        "import nltk\n",
        "nltk.download('punkt')\n",
        "\n",
        "from sklearn import feature_selection\n",
        "\n",
        "from sklearn.feature_extraction.text import CountVectorizer, TfidfTransformer\n",
        "from sklearn.linear_model import SGDClassifier\n",
        "\n",
        "from sklearn.metrics import f1_score\n",
        "from sklearn.metrics import confusion_matrix\n",
        "\n",
        "from itertools import compress\n",
        "import collections\n",
        "\n",
        "import string\n",
        "\n",
        "## for plotting\n",
        "import matplotlib.pyplot as plt\n",
        "import seaborn as sns\n",
        "\n",
        "## for bag-of-words\n",
        "from sklearn import feature_extraction, model_selection, naive_bayes, pipeline, manifold, preprocessing\n",
        "## for word embedding\n",
        "import gensim\n",
        "import gensim.downloader as gensim_api\n",
        "## for deep learning\n",
        "from tensorflow.keras import models, layers, preprocessing as kprocessing\n",
        "from tensorflow.keras import backend as K"
      ],
      "execution_count": null,
      "outputs": []
    },
    {
      "cell_type": "code",
      "metadata": {
        "id": "C6ax11tPp3Bi"
      },
      "source": [
        "from google.colab import drive\n",
        "drive.mount('/content/drive')"
      ],
      "execution_count": null,
      "outputs": []
    },
    {
      "cell_type": "code",
      "metadata": {
        "id": "4Gsu7DojqAUs"
      },
      "source": [
        "data = '/content/drive/My Drive/empatheticdialogues'"
      ],
      "execution_count": null,
      "outputs": []
    },
    {
      "cell_type": "code",
      "metadata": {
        "id": "ApNHO6TWqWaR"
      },
      "source": [
        "# first step is to preprocess the data\n",
        "\n",
        "# Importing the datasets\n",
        "train = pd.read_csv(data+'/train.csv', error_bad_lines=False)\n",
        "valid = pd.read_csv(data+ '/valid.csv', error_bad_lines=False)\n",
        "test = pd.read_csv(data+'/test.csv', error_bad_lines=False)"
      ],
      "execution_count": null,
      "outputs": []
    },
    {
      "cell_type": "code",
      "metadata": {
        "id": "P_aIgfcW1FYW"
      },
      "source": [
        "# 1\n",
        "# select \"utterance\" and \"context\" as your X and y\n",
        "# only select {'sad', 'jealous', 'joyful', 'terrified'} categories\n",
        "# use pandas.loc function to do it!\n",
        "\n",
        "df_train = train.loc[train.context.isin(['sad', 'jealous', 'joyful', 'terrified'])]\n",
        "df_train = df_train[['context', 'utterance']]\n",
        "df_train['utterance'] = df_train['utterance'].str.lower()\n",
        "df_test = test.loc[test.context.isin(['sad', 'jealous', 'joyful', 'terrified'])]\n",
        "df_test = df_test[['context', 'utterance']]\n",
        "df_test['utterance'] = df_test['utterance'].str.lower()\n",
        "df_train = df_train.rename(columns={\"context\":\"y\", \"utterance\":\"text\"})\n",
        "df_test = df_test.rename(columns={\"context\":\"y\", \"utterance\":\"text\"})"
      ],
      "execution_count": null,
      "outputs": []
    },
    {
      "cell_type": "code",
      "metadata": {
        "id": "88SVY74Id4OR"
      },
      "source": [
        "df_train"
      ],
      "execution_count": null,
      "outputs": []
    },
    {
      "cell_type": "code",
      "metadata": {
        "id": "jTdekilQftfq"
      },
      "source": [
        "# Visualizing makeup of training set\n",
        "fig, ax = plt.subplots()\n",
        "fig.suptitle(\"y\", fontsize=12)\n",
        "df_train[\"y\"].reset_index().groupby(\"y\").count().sort_values(by= \n",
        "       \"index\").plot(kind=\"barh\", legend=False, \n",
        "        ax=ax).grid(axis='x')\n",
        "plt.show()"
      ],
      "execution_count": null,
      "outputs": []
    },
    {
      "cell_type": "code",
      "metadata": {
        "id": "NMfpBw3yf-_V"
      },
      "source": [
        "# Visualizing makeup of test set\n",
        "fig, ax = plt.subplots()\n",
        "fig.suptitle(\"y\", fontsize=12)\n",
        "df_test[\"y\"].reset_index().groupby(\"y\").count().sort_values(by= \n",
        "       \"index\").plot(kind=\"barh\", legend=False, \n",
        "        ax=ax).grid(axis='x')\n",
        "plt.show()"
      ],
      "execution_count": null,
      "outputs": []
    },
    {
      "cell_type": "code",
      "metadata": {
        "id": "zvViBY4IZZVv"
      },
      "source": [
        "# Getting the train labels; this will be used for SGD classifier\n",
        "le = preprocessing.LabelEncoder()\n",
        "train_labels_encoded = le.fit(df_train['y'])\n",
        "test_labels_encoded = le.fit(df_test['y'])\n",
        "df_train['y_enc'] = train_labels_encoded.transform(df_train['y'])\n",
        "df_test['y_enc'] = test_labels_encoded.transform(df_test['y'])"
      ],
      "execution_count": null,
      "outputs": []
    },
    {
      "cell_type": "code",
      "metadata": {
        "id": "jN1JHyCZZtHK"
      },
      "source": [
        "# note train and test labels are in train_labels_encoded and labels_encoded_test\n",
        "\n",
        "# data preprocessing, remove punctuations from the sentence\n",
        "# DO NOT REMOVE STOPWORDS here\n",
        "# follow this article should be good to go \n",
        "# https://medium.com/@arunm8489/getting-started-with-natural-language-processing-6e593e349675\n",
        "# https://machinelearningmastery.com/clean-text-machine-learning-python/\n",
        "\n",
        "# Remove 'comma'\n",
        "df_train['text'] = df_train['text'].str.replace('_comma_', '')\n",
        "# Remove numeric characters using regex\n",
        "df_train['text'] = df_train['text'].str.replace('\\d+', '')\n",
        "\n",
        "df_test['text'] = df_test['text'].str.replace('_comma_', '')\n",
        "df_test['text'] = df_test['text'].str.replace('\\d+', '')\n",
        "\n",
        "# Remove punctuation \n",
        "df_train['text_cleaned'] = df_train['text'].str.replace('[{}]'.format(string.punctuation), '')\n",
        "df_test['text_cleaned'] = df_test['text'].str.replace('[{}]'.format(string.punctuation), '')"
      ],
      "execution_count": null,
      "outputs": []
    },
    {
      "cell_type": "code",
      "metadata": {
        "id": "SR3Xzh7NZykq"
      },
      "source": [
        "df_train"
      ],
      "execution_count": null,
      "outputs": []
    },
    {
      "cell_type": "code",
      "metadata": {
        "id": "YrfmU09ptEee"
      },
      "source": [
        "## get target\n",
        "y_train = df_train[\"y_enc\"].values\n",
        "y_test = df_test[\"y_enc\"].values\n",
        "print(type(y_train))"
      ],
      "execution_count": null,
      "outputs": []
    },
    {
      "cell_type": "code",
      "metadata": {
        "id": "l6ZfjiL0aFc6"
      },
      "source": [
        "### 2\n",
        "## Converting the utterances into a sparse bag-of-words \n",
        "# Create the bag of words feature matrix\n",
        "\n",
        "# Unigram BOW representation\n",
        "unigram_vectorizer = CountVectorizer(ngram_range=(1, 1))\n",
        "X_train_unigram = unigram_vectorizer.fit_transform(df_train['text_cleaned'].values)\n",
        "\n",
        "# Get feature names\n",
        "feature_names = unigram_vectorizer.get_feature_names()\n",
        "\n",
        "# View BOW Matrix\n",
        "pd.DataFrame(X_train_unigram.toarray(), columns=feature_names)"
      ],
      "execution_count": null,
      "outputs": []
    },
    {
      "cell_type": "code",
      "metadata": {
        "id": "UESjHfUcc_-Q"
      },
      "source": [
        "### 3 \n",
        "## The shortcomings with the previous representation are?\n",
        "# Answer:  There may be many words that don't add any predictive power to the model. \n",
        "\n",
        "# so we should possibly remove stop words.\n",
        "# Getting the list of stopwords and appending additional words to it\n",
        "stopwords_list = list(set(stopwords.words('english')))\n",
        "\n",
        "# remove the tokens in the stopwords list from utterance\n",
        "\n",
        "df_train['text_cleaned'] = df_train['text_cleaned'].str.replace('[{}]'.format(stopwords_list), '')\n",
        "df_test['text_cleaned'] =  df_test['text_cleaned'].str.replace('[{}]'.format(stopwords_list), '')"
      ],
      "execution_count": null,
      "outputs": []
    },
    {
      "cell_type": "code",
      "metadata": {
        "id": "qMvlKQaTs5zi"
      },
      "source": [
        "w_tokenizer = nltk.tokenize.WhitespaceTokenizer()\n",
        "lemmatizer = nltk.stem.WordNetLemmatizer()\n",
        "\n",
        "def lemmatize_text(text):\n",
        "    return [lemmatizer.lemmatize(w) for w in w_tokenizer.tokenize(text)]\n",
        "\n",
        "df_train['text_tokenized'] = df_train.text_cleaned.apply(lemmatize_text)\n",
        "df_train['text_lemmatized'] = df_train.text_tokenized.apply(lambda x: \" \".join(x))\n",
        "df_test['text_tokenized'] = df_test.text_cleaned.apply(lemmatize_text)\n",
        "df_test['text_lemmatized'] = df_test.text_tokenized.apply(lambda x: \" \".join(x))\n",
        "df_test"
      ],
      "execution_count": null,
      "outputs": []
    },
    {
      "cell_type": "code",
      "metadata": {
        "id": "auKieo024Pyn"
      },
      "source": [
        "# 4\n",
        "## Tf-Idf (using trigrams instead of unigrams)\n",
        "vectorizer = feature_extraction.text.TfidfVectorizer(max_features=10000, ngram_range=(1,3))\n",
        "corpus = df_train[\"text_lemmatized\"]\n",
        "vectorizer.fit(corpus)\n",
        "X_train = vectorizer.transform(corpus)\n",
        "dic_vocabulary = vectorizer.vocabulary_"
      ],
      "execution_count": null,
      "outputs": []
    },
    {
      "cell_type": "code",
      "metadata": {
        "id": "2t63fQtr5M8S"
      },
      "source": [
        "from sklearn.linear_model import SGDClassifier\n",
        "from sklearn.model_selection import train_test_split\n",
        "from scipy.sparse import csr_matrix\n",
        "import numpy as np\n",
        "\n",
        "def train_and_show_scores(X: csr_matrix, y: np.array, title: str) -> None:\n",
        "    X_train, X_valid, y_train, y_valid = train_test_split(\n",
        "        X, y, train_size=0.75, stratify=y\n",
        "    )\n",
        "    clf = SGDClassifier()\n",
        "    clf.fit(X_train, y_train)\n",
        "    train_score = clf.score(X_train, y_train)\n",
        "    valid_score = clf.score(X_valid, y_valid)\n",
        "    print(f'{title}\\nTrain score: {round(train_score, 2)} ; Validation score: {round(valid_score, 2)}\\n')\n",
        "\n",
        "train_and_show_scores(X_train, y_train, 'Trigram Tf-Idf')"
      ],
      "execution_count": null,
      "outputs": []
    },
    {
      "cell_type": "code",
      "metadata": {
        "id": "TShmOG7Z6e1n"
      },
      "source": [
        "# 5. Build an SGD Classifier\n",
        "\n",
        "from sklearn.model_selection import RandomizedSearchCV\n",
        "from scipy.stats import uniform\n",
        "\n",
        "# Phase 1: loss, learning rate and initial learning rate\n",
        "\n",
        "clf = SGDClassifier()\n",
        "\n",
        "distributions = dict(\n",
        "    loss=['hinge', 'log', 'modified_huber', 'squared_hinge', 'perceptron'],\n",
        "    learning_rate=['optimal', 'invscaling', 'adaptive'],\n",
        "    eta0=uniform(loc=1e-7, scale=1e-2),\n",
        "    penalty=['l1', 'l2', 'elasticnet'],\n",
        "    alpha=uniform(loc=1e-6, scale=1e-4)\n",
        ")\n",
        "\n",
        "random_search_cv = RandomizedSearchCV(\n",
        "    estimator=clf,\n",
        "    param_distributions=distributions,\n",
        "    cv=10,\n",
        "    n_iter=50\n",
        ")\n",
        "random_search_cv.fit(X_train, y_train)\n",
        "print(f'Best params: {random_search_cv.best_params_}')\n",
        "print(f'Best score: {random_search_cv.best_score_}')"
      ],
      "execution_count": null,
      "outputs": []
    },
    {
      "cell_type": "code",
      "metadata": {
        "id": "NqZqXfX1sFRy"
      },
      "source": [
        "sgd_classifier = random_search_cv.best_estimator_"
      ],
      "execution_count": null,
      "outputs": []
    },
    {
      "cell_type": "code",
      "metadata": {
        "id": "zfaXDT_Qr249"
      },
      "source": [
        "X_test = df_test['text_lemmatized']\n",
        "X_test = vectorizer.transform(X_test)\n",
        "predictions = sgd_classifier.predict(X_test)\n",
        "score = sgd_classifier.score(X_test, y_test)\n",
        "print('Accuracy on test set:', round(score,2))"
      ],
      "execution_count": null,
      "outputs": []
    },
    {
      "cell_type": "code",
      "metadata": {
        "id": "k4FTeWxZPusK"
      },
      "source": [
        "#Confusion Matrix\n",
        "class_names = train_labels_encoded.classes_\n",
        "y_true = y_test\n",
        "y_pred = predictions\n",
        "data = confusion_matrix(y_true, y_pred)\n",
        "df_cm = pd.DataFrame(data, columns=class_names, index=class_names)\n",
        "df_cm.index.name = 'Actual'\n",
        "df_cm.columns.name = 'Predicted'\n",
        "plt.figure(figsize = (10,10))\n",
        "sn.set(font_scale=1.4)#for label size\n",
        "sn.heatmap(df_cm, cmap=\"Blues\", annot=True,annot_kws={\"size\": 16}, fmt='g')# font size"
      ],
      "execution_count": null,
      "outputs": []
    },
    {
      "cell_type": "code",
      "metadata": {
        "id": "LqakvUOdR-x-"
      },
      "source": [
        "def plot_cm(y_true, y_pred, figsize=(10,10)):\n",
        "    cm = confusion_matrix(y_true, y_pred, labels=np.unique(y_true))\n",
        "    cm_sum = np.sum(cm, axis=1, keepdims=True)\n",
        "    cm_perc = cm / cm_sum.astype(float) * 100\n",
        "    annot = np.empty_like(cm).astype(str)\n",
        "    nrows, ncols = cm.shape\n",
        "    for i in range(nrows):\n",
        "        for j in range(ncols):\n",
        "            c = cm[i, j]\n",
        "            p = cm_perc[i, j]\n",
        "            if i == j:\n",
        "                s = cm_sum[i]\n",
        "                annot[i, j] = '%.1f%%\\n%d/%d' % (p, c, s)\n",
        "            elif c == 0:\n",
        "                annot[i, j] = ''\n",
        "            else:\n",
        "                annot[i, j] = '%.1f%%\\n%d' % (p, c)\n",
        "    cm = pd.DataFrame(cm, index=class_names, columns=class_names)\n",
        "    cm.index.name = 'Actual'\n",
        "    cm.columns.name = 'Predicted'\n",
        "    fig, ax = plt.subplots(figsize=figsize)\n",
        "    sn.heatmap(cm, cmap= \"YlGnBu\", annot=annot, fmt='', ax=ax)\n",
        "    \n",
        "plot_cm(y_true, y_pred)"
      ],
      "execution_count": null,
      "outputs": []
    },
    {
      "cell_type": "code",
      "metadata": {
        "id": "9BuL04JtT1rF"
      },
      "source": [
        "from sklearn.metrics import precision_score, recall_score, f1_score, accuracy_score\n",
        "precision = precision_score(y_true, y_pred, average=None)\n",
        "recall_sc = recall_score(y_true, y_pred, average=None)\n",
        "f1_sc = f1_score(y_true, y_pred, average=None)\n",
        "df = pd.DataFrame(data=precision, index=class_names, columns=['Precision Score'])\n",
        "df['Recall Score'] = recall_sc\n",
        "df['F1 Score'] = f1_sc\n",
        "print(df)"
      ],
      "execution_count": null,
      "outputs": []
    },
    {
      "cell_type": "code",
      "metadata": {
        "id": "y2uiephPor9u"
      },
      "source": [
        "## 6\n",
        "# Using Word2Vec and Neural Net Multinomial Classifier\n",
        "import gensim\n",
        "import gensim.downloader as gensim_api"
      ],
      "execution_count": 183,
      "outputs": []
    },
    {
      "cell_type": "code",
      "metadata": {
        "id": "ll3w1PSuoy70"
      },
      "source": [
        "nlp = gensim_api.load(\"word2vec-google-news-300\")"
      ],
      "execution_count": 184,
      "outputs": []
    },
    {
      "cell_type": "code",
      "metadata": {
        "id": "cLYJWuIQqPdI"
      },
      "source": [
        "## create list of lists of unigrams\n",
        "lst_corpus = []\n",
        "for string in corpus:\n",
        "   lst_words = string.split()\n",
        "   lst_grams = [\" \".join(lst_words[i:i+1]) \n",
        "               for i in range(0, len(lst_words), 1)]\n",
        "   lst_corpus.append(lst_grams)\n",
        "\n",
        "## detect bigrams and trigrams\n",
        "bigrams_detector = gensim.models.phrases.Phrases(lst_corpus, \n",
        "                 delimiter=\" \".encode(), min_count=5, threshold=10)\n",
        "bigrams_detector = gensim.models.phrases.Phraser(bigrams_detector)\n",
        "trigrams_detector = gensim.models.phrases.Phrases(bigrams_detector[lst_corpus], \n",
        "            delimiter=\" \".encode(), min_count=5, threshold=10)\n",
        "trigrams_detector = gensim.models.phrases.Phraser(trigrams_detector)"
      ],
      "execution_count": 185,
      "outputs": []
    },
    {
      "cell_type": "code",
      "metadata": {
        "id": "J3iuoksIqady"
      },
      "source": [
        "## fit w2v\n",
        "nlp = gensim.models.word2vec.Word2Vec(lst_corpus, size=300,   \n",
        "            window=8, min_count=1, sg=1, iter=30)"
      ],
      "execution_count": 186,
      "outputs": []
    },
    {
      "cell_type": "code",
      "metadata": {
        "id": "Cf4bMgpIqpOn"
      },
      "source": [
        "## for deep learning\n",
        "from tensorflow.keras import models, layers, preprocessing as kprocessing\n",
        "from tensorflow.keras import backend as K"
      ],
      "execution_count": 187,
      "outputs": []
    },
    {
      "cell_type": "code",
      "metadata": {
        "id": "Ec--iafeqqY6"
      },
      "source": [
        "## tokenize text\n",
        "tokenizer = kprocessing.text.Tokenizer(lower=True, split=' ', \n",
        "                     oov_token=\"NaN\", \n",
        "                     filters='!\"#$%&()*+,-./:;<=>?@[\\\\]^_`{|}~\\t\\n')\n",
        "tokenizer.fit_on_texts(lst_corpus)\n",
        "dic_vocabulary = tokenizer.word_index\n",
        "## create sequence\n",
        "lst_text2seq= tokenizer.texts_to_sequences(lst_corpus)\n",
        "## padding sequence\n",
        "X_train = kprocessing.sequence.pad_sequences(lst_text2seq, \n",
        "                    maxlen=15, padding=\"post\", truncating=\"post\")"
      ],
      "execution_count": 188,
      "outputs": []
    },
    {
      "cell_type": "code",
      "metadata": {
        "id": "VeGGi3bzq2HM",
        "outputId": "6de51aa1-ebc5-4b50-de39-ad0288f0a810",
        "colab": {
          "base_uri": "https://localhost:8080/"
        }
      },
      "source": [
        "i = 0\n",
        "\n",
        "## list of text: [\"I like this\", ...]\n",
        "len_txt = len(df_train[\"text_lemmatized\"].iloc[i].split())\n",
        "print(\"from: \", df_train[\"text_lemmatized\"].iloc[i], \"| len:\", len_txt)\n",
        "\n",
        "## sequence of token ids: [[1, 2, 3], ...]\n",
        "len_tokens = len(X_train[i])\n",
        "print(\"to: \", X_train[i], \"| len:\", len(X_train[i]))\n",
        "\n",
        "## vocabulary: {\"I\":1, \"like\":2, \"this\":3, ...}\n",
        "print(\"check: \", df_train[\"text_lemmatized\"].iloc[i].split()[0], \n",
        "      \" -- idx in vocabulary -->\", \n",
        "      dic_vocabulary[df_train[\"text_lemmatized\"].iloc[i].split()[0]])\n",
        "\n",
        "print(\"vocabulary: \", dict(list(dic_vocabulary.items())[0:5]), \"... (padding element, 0)\")"
      ],
      "execution_count": 189,
      "outputs": [
        {
          "output_type": "stream",
          "text": [
            "from:  job interview always make me sweat bullet make me uncomfortable in general to be looked at under a microscope like that | len: 21\n",
            "to:  [ 135  719   93   81   18 2443 2444   81   18 2069   17 1483    4   22\n",
            "  632] | len: 15\n",
            "check:  job  -- idx in vocabulary --> 135\n",
            "vocabulary:  {'NaN': 1, 'i': 2, 'a': 3, 'to': 4, 'it': 5} ... (padding element, 0)\n"
          ],
          "name": "stdout"
        }
      ]
    },
    {
      "cell_type": "code",
      "metadata": {
        "id": "vUPPBPrPrQn5"
      },
      "source": [
        "corpus_test = df_test[\"text_lemmatized\"]\n",
        "\n",
        "## create list of n-grams\n",
        "lst_corpus_test = []\n",
        "for string in corpus_test:\n",
        "    lst_words = string.split()\n",
        "    lst_grams = [\" \".join(lst_words[i:i+1]) for i in range(0, \n",
        "                 len(lst_words), 1)]\n",
        "    lst_corpus_test.append(lst_grams)\n",
        "    \n",
        "## detect common bigrams and trigrams using the fitted detectors\n",
        "lst_corpus_test = list(bigrams_detector[lst_corpus_test])\n",
        "lst_corpus_test = list(trigrams_detector[lst_corpus_test])\n",
        "## text to sequence with the fitted tokenizer\n",
        "lst_text2seq = tokenizer.texts_to_sequences(lst_corpus_test)\n",
        "\n",
        "## padding sequence\n",
        "X_test = kprocessing.sequence.pad_sequences(lst_text2seq, maxlen=15,\n",
        "             padding=\"post\", truncating=\"post\")"
      ],
      "execution_count": 190,
      "outputs": []
    },
    {
      "cell_type": "code",
      "metadata": {
        "id": "9BxX9MFPrsr3",
        "outputId": "36c82b91-c90d-4973-d0d8-378adec4ab8c",
        "colab": {
          "base_uri": "https://localhost:8080/"
        }
      },
      "source": [
        "## start the matrix (length of vocabulary x vector size) with all 0s\n",
        "embeddings = np.zeros((len(dic_vocabulary)+1, 300))\n",
        "for word,idx in dic_vocabulary.items():\n",
        "    ## update the row with vector\n",
        "    try:\n",
        "        embeddings[idx] =  nlp[word]\n",
        "    ## if word not in model then skip and the row stays all 0s\n",
        "    except:\n",
        "        pass"
      ],
      "execution_count": 191,
      "outputs": [
        {
          "output_type": "stream",
          "text": [
            "/usr/local/lib/python3.6/dist-packages/ipykernel_launcher.py:6: DeprecationWarning: Call to deprecated `__getitem__` (Method will be removed in 4.0.0, use self.wv.__getitem__() instead).\n",
            "  \n"
          ],
          "name": "stderr"
        }
      ]
    },
    {
      "cell_type": "code",
      "metadata": {
        "id": "9dJI56qNrv5j",
        "outputId": "c6b61848-be91-4dbe-ba9c-f51595e8a2d2",
        "colab": {
          "base_uri": "https://localhost:8080/"
        }
      },
      "source": [
        "word = \"love\"\n",
        "print(\"dic[word]:\", dic_vocabulary[word], \"|idx\")\n",
        "print(\"embeddings[idx]:\", embeddings[dic_vocabulary[word]].shape, \n",
        "      \"|vector\")"
      ],
      "execution_count": 192,
      "outputs": [
        {
          "output_type": "stream",
          "text": [
            "dic[word]: 122 |idx\n",
            "embeddings[idx]: (300,) |vector\n"
          ],
          "name": "stdout"
        }
      ]
    },
    {
      "cell_type": "code",
      "metadata": {
        "id": "yUdUP01brx6v",
        "outputId": "2516e51d-81b2-409e-d9f3-c571ea231a0e",
        "colab": {
          "base_uri": "https://localhost:8080/"
        }
      },
      "source": [
        "## code attention layer\n",
        "def attention_layer(inputs, neurons):\n",
        "    x = layers.Permute((2,1))(inputs)\n",
        "    x = layers.Dense(neurons, activation=\"softmax\")(x)\n",
        "    x = layers.Permute((2,1), name=\"attention\")(x)\n",
        "    x = layers.multiply([inputs, x])\n",
        "    return x\n",
        "\n",
        "## input\n",
        "x_in = layers.Input(shape=(15,))\n",
        "## embedding\n",
        "x = layers.Embedding(input_dim=embeddings.shape[0],  \n",
        "                     output_dim=embeddings.shape[1], \n",
        "                     weights=[embeddings],\n",
        "                     input_length=15, trainable=False)(x_in)\n",
        "## apply attention\n",
        "x = attention_layer(x, neurons=15)\n",
        "## 2 layers of bidirectional lstm\n",
        "x = layers.Bidirectional(layers.LSTM(units=15, dropout=0.2, \n",
        "                         return_sequences=True))(x)\n",
        "x = layers.Bidirectional(layers.LSTM(units=15, dropout=0.2))(x)\n",
        "## final dense layers\n",
        "x = layers.Dense(64, activation='relu')(x)\n",
        "y_out = layers.Dense(4, activation='softmax')(x)\n",
        "## compile\n",
        "model = models.Model(x_in, y_out)\n",
        "model.compile(loss='sparse_categorical_crossentropy',\n",
        "              optimizer='adam', metrics=['accuracy'])\n",
        "\n",
        "model.summary()"
      ],
      "execution_count": 193,
      "outputs": [
        {
          "output_type": "stream",
          "text": [
            "Model: \"functional_7\"\n",
            "__________________________________________________________________________________________________\n",
            "Layer (type)                    Output Shape         Param #     Connected to                     \n",
            "==================================================================================================\n",
            "input_4 (InputLayer)            [(None, 15)]         0                                            \n",
            "__________________________________________________________________________________________________\n",
            "embedding_3 (Embedding)         (None, 15, 300)      2279700     input_4[0][0]                    \n",
            "__________________________________________________________________________________________________\n",
            "permute_3 (Permute)             (None, 300, 15)      0           embedding_3[0][0]                \n",
            "__________________________________________________________________________________________________\n",
            "dense_9 (Dense)                 (None, 300, 15)      240         permute_3[0][0]                  \n",
            "__________________________________________________________________________________________________\n",
            "attention (Permute)             (None, 15, 300)      0           dense_9[0][0]                    \n",
            "__________________________________________________________________________________________________\n",
            "multiply_3 (Multiply)           (None, 15, 300)      0           embedding_3[0][0]                \n",
            "                                                                 attention[0][0]                  \n",
            "__________________________________________________________________________________________________\n",
            "bidirectional_6 (Bidirectional) (None, 15, 30)       37920       multiply_3[0][0]                 \n",
            "__________________________________________________________________________________________________\n",
            "bidirectional_7 (Bidirectional) (None, 30)           5520        bidirectional_6[0][0]            \n",
            "__________________________________________________________________________________________________\n",
            "dense_10 (Dense)                (None, 64)           1984        bidirectional_7[0][0]            \n",
            "__________________________________________________________________________________________________\n",
            "dense_11 (Dense)                (None, 4)            260         dense_10[0][0]                   \n",
            "==================================================================================================\n",
            "Total params: 2,325,624\n",
            "Trainable params: 45,924\n",
            "Non-trainable params: 2,279,700\n",
            "__________________________________________________________________________________________________\n"
          ],
          "name": "stdout"
        }
      ]
    },
    {
      "cell_type": "code",
      "metadata": {
        "id": "wGe0LcPir4oA",
        "outputId": "2aab046d-8c25-4613-84cc-7766c0f54fbf",
        "colab": {
          "base_uri": "https://localhost:8080/",
          "height": 315
        }
      },
      "source": [
        "## encode y\n",
        "dic_y_mapping = {n:label for n,label in \n",
        "                 enumerate(np.unique(df_train['y']))}\n",
        "inverse_dic = {v:k for k,v in dic_y_mapping.items()}\n",
        "y_train = np.array([inverse_dic[y] for y in df_train['y']])\n",
        "## train\n",
        "training = model.fit(x=X_train, y=y_train, batch_size=256, \n",
        "                     epochs=10, shuffle=True, verbose=0, \n",
        "                     validation_split=0.3)\n",
        "## plot loss and accuracy\n",
        "metrics = [k for k in training.history.keys() if (\"loss\" not in k) and (\"val\" not in k)]\n",
        "fig, ax = plt.subplots(nrows=1, ncols=2, sharey=True)\n",
        "ax[0].set(title=\"Training\")\n",
        "ax11 = ax[0].twinx()\n",
        "ax[0].plot(training.history['loss'], color='black')\n",
        "ax[0].set_xlabel('Epochs')\n",
        "ax[0].set_ylabel('Loss', color='black')\n",
        "for metric in metrics:\n",
        "    ax11.plot(training.history[metric], label=metric)\n",
        "ax11.set_ylabel(\"Score\", color='steelblue')\n",
        "ax11.legend()\n",
        "ax[1].set(title=\"Validation\")\n",
        "ax22 = ax[1].twinx()\n",
        "ax[1].plot(training.history['val_loss'], color='black')\n",
        "ax[1].set_xlabel('Epochs')\n",
        "ax[1].set_ylabel('Loss', color='black')\n",
        "for metric in metrics:\n",
        "     ax22.plot(training.history['val_'+metric], label=metric)\n",
        "ax22.set_ylabel(\"Score\", color=\"steelblue\")\n",
        "plt.show()"
      ],
      "execution_count": 194,
      "outputs": [
        {
          "output_type": "display_data",
          "data": {
            "image/png": "[encoded data removed]",
            "text/plain": [
              "<Figure size 432x288 with 4 Axes>"
            ]
          },
          "metadata": {
            "tags": []
          }
        }
      ]
    },
    {
      "cell_type": "code",
      "metadata": {
        "id": "DY2nZ7i6tAMp"
      },
      "source": [
        "predicted_prob = model.predict(X_test)\n",
        "predicted = [dic_y_mapping[np.argmax(pred)] for pred in \n",
        "             predicted_prob]"
      ],
      "execution_count": 195,
      "outputs": []
    },
    {
      "cell_type": "code",
      "metadata": {
        "id": "mEHqxKqQtHQq",
        "outputId": "7f5da456-7408-481d-f2ab-5d9d9adac916",
        "colab": {
          "base_uri": "https://localhost:8080/"
        }
      },
      "source": [
        "from sklearn.metrics import accuracy_score\n",
        "y_true = df_test['y']\n",
        "precision = precision_score(y_true, predicted, average=None)\n",
        "recall_sc = recall_score(y_true, predicted, average=None)\n",
        "f1_sc = f1_score(y_true, predicted, average=None)\n",
        "df = pd.DataFrame(data=precision, index=class_names, columns=['Precision Score'])\n",
        "df['Recall Score'] = recall_sc\n",
        "df['F1 Score'] = f1_sc\n",
        "print('Model Accuracy:', accuracy_score(y_true, predicted))\n",
        "print(df)"
      ],
      "execution_count": 196,
      "outputs": [
        {
          "output_type": "stream",
          "text": [
            "Model Accuracy: 0.5736111111111111\n",
            "           Precision Score  Recall Score  F1 Score\n",
            "jealous           0.754386      0.469945  0.579125\n",
            "joyful            0.534759      0.534759  0.534759\n",
            "sad               0.523364      0.574359  0.547677\n",
            "terrified         0.560976      0.741935  0.638889\n"
          ],
          "name": "stdout"
        }
      ]
    },
    {
      "cell_type": "code",
      "metadata": {
        "id": "EJ0ltuiKwc2N",
        "outputId": "ee9aee09-3d84-418b-e28b-fe40c002b25a",
        "colab": {
          "base_uri": "https://localhost:8080/",
          "height": 621
        }
      },
      "source": [
        "plot_cm(y_true, predicted)"
      ],
      "execution_count": 197,
      "outputs": [
        {
          "output_type": "display_data",
          "data": {
            "image/png": "[encoded data removed]",
            "text/plain": [
              "<Figure size 720x720 with 2 Axes>"
            ]
          },
          "metadata": {
            "tags": []
          }
        }
      ]
    },
    {
      "cell_type": "code",
      "metadata": {
        "id": "zfKc38x-0BMH"
      },
      "source": [
        "# 7\n",
        "# 1. Fine tuning in this context refers to the use of additional supervised learning models to improve the performance of pre-trained word embeddings.  \n",
        "# The Paper mentions pre-prending a predicted label to the utterance to inform generative models that predict the next utterance in a conversation sequence.\n",
        "# 2. The transformer architecture is well suited to this application because the goal of a chatbot is to replicate human-like responses based on \n",
        "# vectorized inputs.\n",
        "# 3. BLEU scores show the ability of a machine to translate or rephrase a sentence in a way that is mutually intelligible.\n",
        "#     PPL or Perplexity is a way of evaluating a language models ability to predict a sample.\n",
        "# 4. I think BLEU is the best metric because it equates with human's perceptions of quality or accuracy.  And humans are better at assessing empathy \n",
        "# in language.\n",
        "# 5. More specific datasets and corpora related to empathetic speech.  Lots of supervised learning.\n"
      ],
      "execution_count": null,
      "outputs": []
    }
  ]
}