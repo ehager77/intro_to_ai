{
 "cells": [
  {
   "cell_type": "code",
   "execution_count": 15,
   "metadata": {},
   "outputs": [],
   "source": [
    "import pandas as pd\n",
    "import numpy as np\n",
    "import matplotlib\n",
    "import matplotlib.pyplot as plt\n",
    "import seaborn as sns\n",
    "import statsmodels.api as sm\n",
    "%matplotlib inline\n",
    "from sklearn.preprocessing import LabelEncoder\n",
    "from sklearn.model_selection import train_test_split\n",
    "from sklearn.linear_model import LinearRegression"
   ]
  },
  {
   "cell_type": "code",
   "execution_count": 16,
   "metadata": {},
   "outputs": [],
   "source": [
    "data = './hw2.csv'\n",
    "# day_dict = {'Sun': 1, 'Mon': 2, 'Tue': 3, 'Wed': 4, 'Thu': 5, 'Fri': 6, 'Sat': 7}"
   ]
  },
  {
   "cell_type": "code",
   "execution_count": 17,
   "metadata": {},
   "outputs": [],
   "source": [
    "twitter_data = pd.read_csv(data)\n",
    "twitter_data = twitter_data.replace('null;', 0)"
   ]
  },
  {
   "cell_type": "code",
   "execution_count": 18,
   "metadata": {},
   "outputs": [],
   "source": [
    "twitter_data = twitter_data"
   ]
  },
  {
   "cell_type": "code",
   "execution_count": 19,
   "metadata": {},
   "outputs": [],
   "source": [
    "twitter_data['Positive_sentiment'] = twitter_data['Sentiment'].str[0].astype(int)\n",
    "twitter_data['Negative_sentiment'] = twitter_data['Sentiment'].str[2:4].astype(int)"
   ]
  },
  {
   "cell_type": "code",
   "execution_count": 20,
   "metadata": {},
   "outputs": [],
   "source": [
    "twitter_data = twitter_data.drop(columns=['Sentiment','Entities'])"
   ]
  },
  {
   "cell_type": "code",
   "execution_count": 21,
   "metadata": {},
   "outputs": [],
   "source": [
    "twitter_data['Tweet_day'] = twitter_data['Timestamp'].str[0:3]\n",
    "le_day = LabelEncoder()\n",
    "twitter_data['Tweet_day_n'] = le_day.fit_transform(twitter_data['Tweet_day'])"
   ]
  },
  {
   "cell_type": "code",
   "execution_count": 22,
   "metadata": {},
   "outputs": [],
   "source": [
    "twitter_data['Tweet_hour'] = twitter_data['Timestamp'].str[10:13].astype(int)"
   ]
  },
  {
   "cell_type": "code",
   "execution_count": 23,
   "metadata": {},
   "outputs": [],
   "source": [
    "twitter_data['#Mentions'] = twitter_data['Mentions'].str.split()\n",
    "twitter_data['#Mentions'] = twitter_data['#Mentions'].str.len()\n",
    "twitter_data['#Mentions'] = twitter_data['#Mentions'].fillna(0)\n",
    "twitter_data['#Mentions'] = twitter_data['#Mentions'].astype(int)"
   ]
  },
  {
   "cell_type": "code",
   "execution_count": 24,
   "metadata": {},
   "outputs": [],
   "source": [
    "twitter_data['#Hashtags'] = twitter_data['Hashtags'].str.split()\n",
    "twitter_data['#Hashtags'] = twitter_data['#Hashtags'].str.len()\n",
    "twitter_data['#Hashtags'] = twitter_data['#Hashtags'].fillna(0)\n",
    "twitter_data['#Hashtags'] = twitter_data['#Hashtags'].astype(int)"
   ]
  },
  {
   "cell_type": "code",
   "execution_count": 25,
   "metadata": {},
   "outputs": [
    {
     "data": {
      "text/html": [
       "<div>\n",
       "<style scoped>\n",
       "    .dataframe tbody tr th:only-of-type {\n",
       "        vertical-align: middle;\n",
       "    }\n",
       "\n",
       "    .dataframe tbody tr th {\n",
       "        vertical-align: top;\n",
       "    }\n",
       "\n",
       "    .dataframe thead th {\n",
       "        text-align: right;\n",
       "    }\n",
       "</style>\n",
       "<table border=\"1\" class=\"dataframe\">\n",
       "  <thead>\n",
       "    <tr style=\"text-align: right;\">\n",
       "      <th></th>\n",
       "      <th>Tweet ID</th>\n",
       "      <th>Username</th>\n",
       "      <th>Timestamp</th>\n",
       "      <th>#Followers</th>\n",
       "      <th>#Friends</th>\n",
       "      <th>#Retweets</th>\n",
       "      <th>#Favorites</th>\n",
       "      <th>Mentions</th>\n",
       "      <th>Hashtags</th>\n",
       "      <th>URLs</th>\n",
       "      <th>Positive_sentiment</th>\n",
       "      <th>Negative_sentiment</th>\n",
       "      <th>Tweet_day</th>\n",
       "      <th>Tweet_day_n</th>\n",
       "      <th>Tweet_hour</th>\n",
       "      <th>#Mentions</th>\n",
       "      <th>#Hashtags</th>\n",
       "    </tr>\n",
       "  </thead>\n",
       "  <tbody>\n",
       "    <tr>\n",
       "      <th>0</th>\n",
       "      <td>1178791787386814465</td>\n",
       "      <td>35234fe4a19cc1a3336095fb3780bcc1</td>\n",
       "      <td>Mon Sep 30 22:00:37 +0000 2019</td>\n",
       "      <td>619</td>\n",
       "      <td>770</td>\n",
       "      <td>0</td>\n",
       "      <td>0</td>\n",
       "      <td>0</td>\n",
       "      <td>0</td>\n",
       "      <td>0</td>\n",
       "      <td>2</td>\n",
       "      <td>-1</td>\n",
       "      <td>Mon</td>\n",
       "      <td>1</td>\n",
       "      <td>22</td>\n",
       "      <td>0</td>\n",
       "      <td>0</td>\n",
       "    </tr>\n",
       "    <tr>\n",
       "      <th>1</th>\n",
       "      <td>1178791985106153472</td>\n",
       "      <td>ea4592f39636d87af8fb4b17b7e2e4c0</td>\n",
       "      <td>Mon Sep 30 22:01:24 +0000 2019</td>\n",
       "      <td>36365</td>\n",
       "      <td>19344</td>\n",
       "      <td>13</td>\n",
       "      <td>17</td>\n",
       "      <td>0</td>\n",
       "      <td>0</td>\n",
       "      <td>https://twitter.com/himalayahawk/status/117766...</td>\n",
       "      <td>1</td>\n",
       "      <td>-4</td>\n",
       "      <td>Mon</td>\n",
       "      <td>1</td>\n",
       "      <td>22</td>\n",
       "      <td>0</td>\n",
       "      <td>0</td>\n",
       "    </tr>\n",
       "    <tr>\n",
       "      <th>2</th>\n",
       "      <td>1178793230223183872</td>\n",
       "      <td>bf05d1888dd974fa4a8679c25e2ead03</td>\n",
       "      <td>Mon Sep 30 22:06:21 +0000 2019</td>\n",
       "      <td>5018</td>\n",
       "      <td>1933</td>\n",
       "      <td>0</td>\n",
       "      <td>0</td>\n",
       "      <td>0</td>\n",
       "      <td>0</td>\n",
       "      <td>https://goo.gl/fb/uoeiPk:-:</td>\n",
       "      <td>2</td>\n",
       "      <td>-1</td>\n",
       "      <td>Mon</td>\n",
       "      <td>1</td>\n",
       "      <td>22</td>\n",
       "      <td>0</td>\n",
       "      <td>0</td>\n",
       "    </tr>\n",
       "    <tr>\n",
       "      <th>3</th>\n",
       "      <td>1178795172206919680</td>\n",
       "      <td>eb8a99bca8945eab1d006750e9b75518</td>\n",
       "      <td>Mon Sep 30 22:14:04 +0000 2019</td>\n",
       "      <td>2219</td>\n",
       "      <td>971</td>\n",
       "      <td>0</td>\n",
       "      <td>0</td>\n",
       "      <td>0</td>\n",
       "      <td>0</td>\n",
       "      <td>0</td>\n",
       "      <td>2</td>\n",
       "      <td>-1</td>\n",
       "      <td>Mon</td>\n",
       "      <td>1</td>\n",
       "      <td>22</td>\n",
       "      <td>0</td>\n",
       "      <td>0</td>\n",
       "    </tr>\n",
       "    <tr>\n",
       "      <th>4</th>\n",
       "      <td>1178798309491822592</td>\n",
       "      <td>00695cf79d60e86a5d0f872f4358337a</td>\n",
       "      <td>Mon Sep 30 22:26:32 +0000 2019</td>\n",
       "      <td>9009</td>\n",
       "      <td>4943</td>\n",
       "      <td>26</td>\n",
       "      <td>89</td>\n",
       "      <td>0</td>\n",
       "      <td>VFS</td>\n",
       "      <td>0</td>\n",
       "      <td>2</td>\n",
       "      <td>-1</td>\n",
       "      <td>Mon</td>\n",
       "      <td>1</td>\n",
       "      <td>22</td>\n",
       "      <td>0</td>\n",
       "      <td>1</td>\n",
       "    </tr>\n",
       "    <tr>\n",
       "      <th>...</th>\n",
       "      <td>...</td>\n",
       "      <td>...</td>\n",
       "      <td>...</td>\n",
       "      <td>...</td>\n",
       "      <td>...</td>\n",
       "      <td>...</td>\n",
       "      <td>...</td>\n",
       "      <td>...</td>\n",
       "      <td>...</td>\n",
       "      <td>...</td>\n",
       "      <td>...</td>\n",
       "      <td>...</td>\n",
       "      <td>...</td>\n",
       "      <td>...</td>\n",
       "      <td>...</td>\n",
       "      <td>...</td>\n",
       "      <td>...</td>\n",
       "    </tr>\n",
       "    <tr>\n",
       "      <th>99995</th>\n",
       "      <td>1179546502076796929</td>\n",
       "      <td>13e64b1c97e36d867d1c579a7dd1849c</td>\n",
       "      <td>Wed Oct 02 23:59:35 +0000 2019</td>\n",
       "      <td>41</td>\n",
       "      <td>193</td>\n",
       "      <td>0</td>\n",
       "      <td>0</td>\n",
       "      <td>cripplespur1</td>\n",
       "      <td>0</td>\n",
       "      <td>0</td>\n",
       "      <td>1</td>\n",
       "      <td>-1</td>\n",
       "      <td>Wed</td>\n",
       "      <td>6</td>\n",
       "      <td>23</td>\n",
       "      <td>1</td>\n",
       "      <td>0</td>\n",
       "    </tr>\n",
       "    <tr>\n",
       "      <th>99996</th>\n",
       "      <td>1179546574873141257</td>\n",
       "      <td>564b19153eb32b6a49167eea42d451f0</td>\n",
       "      <td>Wed Oct 02 23:59:53 +0000 2019</td>\n",
       "      <td>2011</td>\n",
       "      <td>1345</td>\n",
       "      <td>1</td>\n",
       "      <td>5</td>\n",
       "      <td>aii0l57❤️❤️❤️.</td>\n",
       "      <td>0</td>\n",
       "      <td>0</td>\n",
       "      <td>3</td>\n",
       "      <td>-1</td>\n",
       "      <td>Wed</td>\n",
       "      <td>6</td>\n",
       "      <td>23</td>\n",
       "      <td>1</td>\n",
       "      <td>0</td>\n",
       "    </tr>\n",
       "    <tr>\n",
       "      <th>99997</th>\n",
       "      <td>1179548305589755906</td>\n",
       "      <td>9f6a999aa613403742fd30afeadd9b6d</td>\n",
       "      <td>Thu Oct 03 00:06:45 +0000 2019</td>\n",
       "      <td>294</td>\n",
       "      <td>300</td>\n",
       "      <td>0</td>\n",
       "      <td>0</td>\n",
       "      <td>0</td>\n",
       "      <td>0</td>\n",
       "      <td>0</td>\n",
       "      <td>1</td>\n",
       "      <td>-1</td>\n",
       "      <td>Thu</td>\n",
       "      <td>4</td>\n",
       "      <td>0</td>\n",
       "      <td>0</td>\n",
       "      <td>0</td>\n",
       "    </tr>\n",
       "    <tr>\n",
       "      <th>99998</th>\n",
       "      <td>1179550507611906048</td>\n",
       "      <td>b14166b39b4bf8718f62f84dcad0b67d</td>\n",
       "      <td>Thu Oct 03 00:15:30 +0000 2019</td>\n",
       "      <td>169</td>\n",
       "      <td>116</td>\n",
       "      <td>0</td>\n",
       "      <td>0</td>\n",
       "      <td>0</td>\n",
       "      <td>ChicagoMed</td>\n",
       "      <td>0</td>\n",
       "      <td>1</td>\n",
       "      <td>-1</td>\n",
       "      <td>Thu</td>\n",
       "      <td>4</td>\n",
       "      <td>0</td>\n",
       "      <td>0</td>\n",
       "      <td>1</td>\n",
       "    </tr>\n",
       "    <tr>\n",
       "      <th>99999</th>\n",
       "      <td>1179551153521954816</td>\n",
       "      <td>92e640d92f4b47d6a3aeac3cadc814d8</td>\n",
       "      <td>Thu Oct 03 00:18:04 +0000 2019</td>\n",
       "      <td>490</td>\n",
       "      <td>1285</td>\n",
       "      <td>0</td>\n",
       "      <td>0</td>\n",
       "      <td>0</td>\n",
       "      <td>0</td>\n",
       "      <td>0</td>\n",
       "      <td>2</td>\n",
       "      <td>-2</td>\n",
       "      <td>Thu</td>\n",
       "      <td>4</td>\n",
       "      <td>0</td>\n",
       "      <td>0</td>\n",
       "      <td>0</td>\n",
       "    </tr>\n",
       "  </tbody>\n",
       "</table>\n",
       "<p>100000 rows × 17 columns</p>\n",
       "</div>"
      ],
      "text/plain": [
       "                  Tweet ID                          Username  \\\n",
       "0      1178791787386814465  35234fe4a19cc1a3336095fb3780bcc1   \n",
       "1      1178791985106153472  ea4592f39636d87af8fb4b17b7e2e4c0   \n",
       "2      1178793230223183872  bf05d1888dd974fa4a8679c25e2ead03   \n",
       "3      1178795172206919680  eb8a99bca8945eab1d006750e9b75518   \n",
       "4      1178798309491822592  00695cf79d60e86a5d0f872f4358337a   \n",
       "...                    ...                               ...   \n",
       "99995  1179546502076796929  13e64b1c97e36d867d1c579a7dd1849c   \n",
       "99996  1179546574873141257  564b19153eb32b6a49167eea42d451f0   \n",
       "99997  1179548305589755906  9f6a999aa613403742fd30afeadd9b6d   \n",
       "99998  1179550507611906048  b14166b39b4bf8718f62f84dcad0b67d   \n",
       "99999  1179551153521954816  92e640d92f4b47d6a3aeac3cadc814d8   \n",
       "\n",
       "                            Timestamp  #Followers  #Friends  #Retweets  \\\n",
       "0      Mon Sep 30 22:00:37 +0000 2019         619       770          0   \n",
       "1      Mon Sep 30 22:01:24 +0000 2019       36365     19344         13   \n",
       "2      Mon Sep 30 22:06:21 +0000 2019        5018      1933          0   \n",
       "3      Mon Sep 30 22:14:04 +0000 2019        2219       971          0   \n",
       "4      Mon Sep 30 22:26:32 +0000 2019        9009      4943         26   \n",
       "...                               ...         ...       ...        ...   \n",
       "99995  Wed Oct 02 23:59:35 +0000 2019          41       193          0   \n",
       "99996  Wed Oct 02 23:59:53 +0000 2019        2011      1345          1   \n",
       "99997  Thu Oct 03 00:06:45 +0000 2019         294       300          0   \n",
       "99998  Thu Oct 03 00:15:30 +0000 2019         169       116          0   \n",
       "99999  Thu Oct 03 00:18:04 +0000 2019         490      1285          0   \n",
       "\n",
       "       #Favorites        Mentions    Hashtags  \\\n",
       "0               0               0           0   \n",
       "1              17               0           0   \n",
       "2               0               0           0   \n",
       "3               0               0           0   \n",
       "4              89               0         VFS   \n",
       "...           ...             ...         ...   \n",
       "99995           0    cripplespur1           0   \n",
       "99996           5  aii0l57❤️❤️❤️.           0   \n",
       "99997           0               0           0   \n",
       "99998           0               0  ChicagoMed   \n",
       "99999           0               0           0   \n",
       "\n",
       "                                                    URLs  Positive_sentiment  \\\n",
       "0                                                      0                   2   \n",
       "1      https://twitter.com/himalayahawk/status/117766...                   1   \n",
       "2                            https://goo.gl/fb/uoeiPk:-:                   2   \n",
       "3                                                      0                   2   \n",
       "4                                                      0                   2   \n",
       "...                                                  ...                 ...   \n",
       "99995                                                  0                   1   \n",
       "99996                                                  0                   3   \n",
       "99997                                                  0                   1   \n",
       "99998                                                  0                   1   \n",
       "99999                                                  0                   2   \n",
       "\n",
       "       Negative_sentiment Tweet_day  Tweet_day_n  Tweet_hour  #Mentions  \\\n",
       "0                      -1       Mon            1          22          0   \n",
       "1                      -4       Mon            1          22          0   \n",
       "2                      -1       Mon            1          22          0   \n",
       "3                      -1       Mon            1          22          0   \n",
       "4                      -1       Mon            1          22          0   \n",
       "...                   ...       ...          ...         ...        ...   \n",
       "99995                  -1       Wed            6          23          1   \n",
       "99996                  -1       Wed            6          23          1   \n",
       "99997                  -1       Thu            4           0          0   \n",
       "99998                  -1       Thu            4           0          0   \n",
       "99999                  -2       Thu            4           0          0   \n",
       "\n",
       "       #Hashtags  \n",
       "0              0  \n",
       "1              0  \n",
       "2              0  \n",
       "3              0  \n",
       "4              1  \n",
       "...          ...  \n",
       "99995          0  \n",
       "99996          0  \n",
       "99997          0  \n",
       "99998          1  \n",
       "99999          0  \n",
       "\n",
       "[100000 rows x 17 columns]"
      ]
     },
     "execution_count": 25,
     "metadata": {},
     "output_type": "execute_result"
    }
   ],
   "source": [
    "twitter_data"
   ]
  },
  {
   "cell_type": "code",
   "execution_count": 27,
   "metadata": {},
   "outputs": [],
   "source": [
    "twitter_data['#Followers_log'] = np.log10(twitter_data['#Followers'] + 1)\n",
    "twitter_data['#Friends_log'] = np.log10(twitter_data['#Friends'] + 1)\n",
    "twitter_data['#Favorites_log'] = np.log10(twitter_data['#Favorites'] + 1)\n",
    "twitter_data['#Mentions_log'] = np.log10(twitter_data['#Mentions'] + 1)\n",
    "twitter_data['#Hashtags_log'] = np.log10(twitter_data['#Hashtags'] + 1)"
   ]
  },
  {
   "cell_type": "code",
   "execution_count": 28,
   "metadata": {},
   "outputs": [
    {
     "name": "stdout",
     "output_type": "stream",
     "text": [
      "Skew coefficient:  0.3799455766006705\n"
     ]
    },
    {
     "data": {
      "image/png": "[encoded data removed]",
      "text/plain": [
       "<Figure size 432x288 with 1 Axes>"
      ]
     },
     "metadata": {
      "needs_background": "light"
     },
     "output_type": "display_data"
    }
   ],
   "source": [
    "log_num_followers_hist = plt.hist(twitter_data['#Followers_log'], bins=50)\n",
    "# Normalize here\n",
    "print('Skew coefficient: ', twitter_data['#Followers_log'].skew())"
   ]
  },
  {
   "cell_type": "code",
   "execution_count": 29,
   "metadata": {},
   "outputs": [
    {
     "name": "stdout",
     "output_type": "stream",
     "text": [
      "Skew coefficient:  -0.3130054049315858\n"
     ]
    },
    {
     "data": {
      "image/png": "[encoded data removed]",
      "text/plain": [
       "<Figure size 432x288 with 1 Axes>"
      ]
     },
     "metadata": {
      "needs_background": "light"
     },
     "output_type": "display_data"
    }
   ],
   "source": [
    "num_friends_hist = plt.hist(twitter_data['#Friends_log'], bins=30)\n",
    "# Normalize here\n",
    "print('Skew coefficient: ', twitter_data['#Friends_log'].skew())"
   ]
  },
  {
   "cell_type": "code",
   "execution_count": 30,
   "metadata": {},
   "outputs": [
    {
     "name": "stdout",
     "output_type": "stream",
     "text": [
      "Skew coefficient:  1.3121065180212501\n"
     ]
    },
    {
     "data": {
      "image/png": "[encoded data removed]",
      "text/plain": [
       "<Figure size 432x288 with 1 Axes>"
      ]
     },
     "metadata": {
      "needs_background": "light"
     },
     "output_type": "display_data"
    }
   ],
   "source": [
    "num_friends_hist = plt.hist(twitter_data['#Favorites_log'], bins=30)\n",
    "# Standard Scaler here\n",
    "print('Skew coefficient: ', twitter_data['#Favorites_log'].skew())"
   ]
  },
  {
   "cell_type": "code",
   "execution_count": 31,
   "metadata": {},
   "outputs": [
    {
     "name": "stdout",
     "output_type": "stream",
     "text": [
      "Skew coefficient:  2.0449340408016967\n"
     ]
    },
    {
     "data": {
      "image/png": "[encoded data removed]",
      "text/plain": [
       "<Figure size 432x288 with 1 Axes>"
      ]
     },
     "metadata": {
      "needs_background": "light"
     },
     "output_type": "display_data"
    }
   ],
   "source": [
    "num_friends_hist = plt.hist(twitter_data['#Mentions_log'])\n",
    "# Standard Scaler here\n",
    "print('Skew coefficient: ', twitter_data['#Mentions_log'].skew())"
   ]
  },
  {
   "cell_type": "code",
   "execution_count": 32,
   "metadata": {},
   "outputs": [
    {
     "name": "stdout",
     "output_type": "stream",
     "text": [
      "Skew coefficient:  2.1402405394868054\n"
     ]
    },
    {
     "data": {
      "image/png": "[encoded data removed]",
      "text/plain": [
       "<Figure size 432x288 with 1 Axes>"
      ]
     },
     "metadata": {
      "needs_background": "light"
     },
     "output_type": "display_data"
    }
   ],
   "source": [
    "num_friends_hist = plt.hist(twitter_data['#Hashtags_log'])\n",
    "# Standard Scaler here\n",
    "print('Skew coefficient: ', twitter_data['#Hashtags_log'].skew())"
   ]
  },
  {
   "cell_type": "code",
   "execution_count": 33,
   "metadata": {},
   "outputs": [
    {
     "data": {
      "text/html": [
       "<div>\n",
       "<style scoped>\n",
       "    .dataframe tbody tr th:only-of-type {\n",
       "        vertical-align: middle;\n",
       "    }\n",
       "\n",
       "    .dataframe tbody tr th {\n",
       "        vertical-align: top;\n",
       "    }\n",
       "\n",
       "    .dataframe thead th {\n",
       "        text-align: right;\n",
       "    }\n",
       "</style>\n",
       "<table border=\"1\" class=\"dataframe\">\n",
       "  <thead>\n",
       "    <tr style=\"text-align: right;\">\n",
       "      <th></th>\n",
       "      <th>#Retweets</th>\n",
       "      <th>#Followers_log</th>\n",
       "      <th>#Friends_log</th>\n",
       "      <th>#Favorites_log</th>\n",
       "      <th>#Hashtags_log</th>\n",
       "      <th>#Mentions_log</th>\n",
       "      <th>Positive_sentiment</th>\n",
       "      <th>Negative_sentiment</th>\n",
       "      <th>Tweet_day_n</th>\n",
       "      <th>Tweet_hour</th>\n",
       "    </tr>\n",
       "  </thead>\n",
       "  <tbody>\n",
       "    <tr>\n",
       "      <th>0</th>\n",
       "      <td>0</td>\n",
       "      <td>2.792392</td>\n",
       "      <td>2.887054</td>\n",
       "      <td>0.000000</td>\n",
       "      <td>0.00000</td>\n",
       "      <td>0.00000</td>\n",
       "      <td>2</td>\n",
       "      <td>-1</td>\n",
       "      <td>1</td>\n",
       "      <td>22</td>\n",
       "    </tr>\n",
       "    <tr>\n",
       "      <th>1</th>\n",
       "      <td>13</td>\n",
       "      <td>4.560696</td>\n",
       "      <td>4.286569</td>\n",
       "      <td>1.255273</td>\n",
       "      <td>0.00000</td>\n",
       "      <td>0.00000</td>\n",
       "      <td>1</td>\n",
       "      <td>-4</td>\n",
       "      <td>1</td>\n",
       "      <td>22</td>\n",
       "    </tr>\n",
       "    <tr>\n",
       "      <th>2</th>\n",
       "      <td>0</td>\n",
       "      <td>3.700617</td>\n",
       "      <td>3.286456</td>\n",
       "      <td>0.000000</td>\n",
       "      <td>0.00000</td>\n",
       "      <td>0.00000</td>\n",
       "      <td>2</td>\n",
       "      <td>-1</td>\n",
       "      <td>1</td>\n",
       "      <td>22</td>\n",
       "    </tr>\n",
       "    <tr>\n",
       "      <th>3</th>\n",
       "      <td>0</td>\n",
       "      <td>3.346353</td>\n",
       "      <td>2.987666</td>\n",
       "      <td>0.000000</td>\n",
       "      <td>0.00000</td>\n",
       "      <td>0.00000</td>\n",
       "      <td>2</td>\n",
       "      <td>-1</td>\n",
       "      <td>1</td>\n",
       "      <td>22</td>\n",
       "    </tr>\n",
       "    <tr>\n",
       "      <th>4</th>\n",
       "      <td>26</td>\n",
       "      <td>3.954725</td>\n",
       "      <td>3.694078</td>\n",
       "      <td>1.954243</td>\n",
       "      <td>0.30103</td>\n",
       "      <td>0.00000</td>\n",
       "      <td>2</td>\n",
       "      <td>-1</td>\n",
       "      <td>1</td>\n",
       "      <td>22</td>\n",
       "    </tr>\n",
       "    <tr>\n",
       "      <th>...</th>\n",
       "      <td>...</td>\n",
       "      <td>...</td>\n",
       "      <td>...</td>\n",
       "      <td>...</td>\n",
       "      <td>...</td>\n",
       "      <td>...</td>\n",
       "      <td>...</td>\n",
       "      <td>...</td>\n",
       "      <td>...</td>\n",
       "      <td>...</td>\n",
       "    </tr>\n",
       "    <tr>\n",
       "      <th>99995</th>\n",
       "      <td>0</td>\n",
       "      <td>1.623249</td>\n",
       "      <td>2.287802</td>\n",
       "      <td>0.000000</td>\n",
       "      <td>0.00000</td>\n",
       "      <td>0.30103</td>\n",
       "      <td>1</td>\n",
       "      <td>-1</td>\n",
       "      <td>6</td>\n",
       "      <td>23</td>\n",
       "    </tr>\n",
       "    <tr>\n",
       "      <th>99996</th>\n",
       "      <td>1</td>\n",
       "      <td>3.303628</td>\n",
       "      <td>3.129045</td>\n",
       "      <td>0.778151</td>\n",
       "      <td>0.00000</td>\n",
       "      <td>0.30103</td>\n",
       "      <td>3</td>\n",
       "      <td>-1</td>\n",
       "      <td>6</td>\n",
       "      <td>23</td>\n",
       "    </tr>\n",
       "    <tr>\n",
       "      <th>99997</th>\n",
       "      <td>0</td>\n",
       "      <td>2.469822</td>\n",
       "      <td>2.478566</td>\n",
       "      <td>0.000000</td>\n",
       "      <td>0.00000</td>\n",
       "      <td>0.00000</td>\n",
       "      <td>1</td>\n",
       "      <td>-1</td>\n",
       "      <td>4</td>\n",
       "      <td>0</td>\n",
       "    </tr>\n",
       "    <tr>\n",
       "      <th>99998</th>\n",
       "      <td>0</td>\n",
       "      <td>2.230449</td>\n",
       "      <td>2.068186</td>\n",
       "      <td>0.000000</td>\n",
       "      <td>0.30103</td>\n",
       "      <td>0.00000</td>\n",
       "      <td>1</td>\n",
       "      <td>-1</td>\n",
       "      <td>4</td>\n",
       "      <td>0</td>\n",
       "    </tr>\n",
       "    <tr>\n",
       "      <th>99999</th>\n",
       "      <td>0</td>\n",
       "      <td>2.691081</td>\n",
       "      <td>3.109241</td>\n",
       "      <td>0.000000</td>\n",
       "      <td>0.00000</td>\n",
       "      <td>0.00000</td>\n",
       "      <td>2</td>\n",
       "      <td>-2</td>\n",
       "      <td>4</td>\n",
       "      <td>0</td>\n",
       "    </tr>\n",
       "  </tbody>\n",
       "</table>\n",
       "<p>100000 rows × 10 columns</p>\n",
       "</div>"
      ],
      "text/plain": [
       "       #Retweets  #Followers_log  #Friends_log  #Favorites_log  #Hashtags_log  \\\n",
       "0              0        2.792392      2.887054        0.000000        0.00000   \n",
       "1             13        4.560696      4.286569        1.255273        0.00000   \n",
       "2              0        3.700617      3.286456        0.000000        0.00000   \n",
       "3              0        3.346353      2.987666        0.000000        0.00000   \n",
       "4             26        3.954725      3.694078        1.954243        0.30103   \n",
       "...          ...             ...           ...             ...            ...   \n",
       "99995          0        1.623249      2.287802        0.000000        0.00000   \n",
       "99996          1        3.303628      3.129045        0.778151        0.00000   \n",
       "99997          0        2.469822      2.478566        0.000000        0.00000   \n",
       "99998          0        2.230449      2.068186        0.000000        0.30103   \n",
       "99999          0        2.691081      3.109241        0.000000        0.00000   \n",
       "\n",
       "       #Mentions_log  Positive_sentiment  Negative_sentiment  Tweet_day_n  \\\n",
       "0            0.00000                   2                  -1            1   \n",
       "1            0.00000                   1                  -4            1   \n",
       "2            0.00000                   2                  -1            1   \n",
       "3            0.00000                   2                  -1            1   \n",
       "4            0.00000                   2                  -1            1   \n",
       "...              ...                 ...                 ...          ...   \n",
       "99995        0.30103                   1                  -1            6   \n",
       "99996        0.30103                   3                  -1            6   \n",
       "99997        0.00000                   1                  -1            4   \n",
       "99998        0.00000                   1                  -1            4   \n",
       "99999        0.00000                   2                  -2            4   \n",
       "\n",
       "       Tweet_hour  \n",
       "0              22  \n",
       "1              22  \n",
       "2              22  \n",
       "3              22  \n",
       "4              22  \n",
       "...           ...  \n",
       "99995          23  \n",
       "99996          23  \n",
       "99997           0  \n",
       "99998           0  \n",
       "99999           0  \n",
       "\n",
       "[100000 rows x 10 columns]"
      ]
     },
     "execution_count": 33,
     "metadata": {},
     "output_type": "execute_result"
    }
   ],
   "source": [
    "td_new = twitter_data[['#Retweets', '#Followers_log', '#Friends_log', '#Favorites_log', '#Hashtags_log', '#Mentions_log', 'Positive_sentiment', 'Negative_sentiment', 'Tweet_day_n', 'Tweet_hour']]\n",
    "td_new"
   ]
  },
  {
   "cell_type": "code",
   "execution_count": 34,
   "metadata": {},
   "outputs": [
    {
     "data": {
      "image/png": "[encoded data removed]",
      "text/plain": [
       "<Figure size 864x720 with 2 Axes>"
      ]
     },
     "metadata": {
      "needs_background": "light"
     },
     "output_type": "display_data"
    }
   ],
   "source": [
    "plt.figure(figsize=(12,10))\n",
    "cor = td_new.corr(method='pearson')\n",
    "sns.heatmap(cor, annot=True, cmap=plt.cm.Reds)\n",
    "plt.show()"
   ]
  },
  {
   "cell_type": "code",
   "execution_count": 35,
   "metadata": {},
   "outputs": [],
   "source": [
    "x = td_new.drop('#Retweets', axis='columns')\n",
    "y = twitter_data['#Retweets']"
   ]
  },
  {
   "cell_type": "code",
   "execution_count": 36,
   "metadata": {},
   "outputs": [],
   "source": [
    "# Feature selection here?"
   ]
  },
  {
   "cell_type": "code",
   "execution_count": 37,
   "metadata": {},
   "outputs": [
    {
     "data": {
      "text/plain": [
       "0.56505"
      ]
     },
     "execution_count": 37,
     "metadata": {},
     "output_type": "execute_result"
    }
   ],
   "source": [
    "from sklearn import tree\n",
    "from sklearn.preprocessing import StandardScaler\n",
    "x_train, x_test, y_train, y_test = train_test_split(x, y, test_size = 0.2)\n",
    "sc = StandardScaler()\n",
    "x_train = sc.fit_transform(x_train)\n",
    "x_test = sc.transform(x_test)\n",
    "model = tree.DecisionTreeClassifier()\n",
    "model.fit(x_train, y_train)\n",
    "model.score(x_test, y_test)"
   ]
  },
  {
   "cell_type": "code",
   "execution_count": 38,
   "metadata": {},
   "outputs": [],
   "source": [
    "# K-fold cross validation?"
   ]
  },
  {
   "cell_type": "code",
   "execution_count": 39,
   "metadata": {},
   "outputs": [
    {
     "data": {
      "image/png": "[encoded data removed]",
      "text/plain": [
       "<Figure size 432x288 with 1 Axes>"
      ]
     },
     "metadata": {
      "needs_background": "light"
     },
     "output_type": "display_data"
    }
   ],
   "source": [
    "predictions = model.predict(x_test)\n",
    "scatter_plot = plt.scatter(y_test, predictions)"
   ]
  },
  {
   "cell_type": "code",
   "execution_count": null,
   "metadata": {},
   "outputs": [],
   "source": []
  }
 ],
 "metadata": {
  "kernelspec": {
   "display_name": "Python 3",
   "language": "python",
   "name": "python3"
  },
  "language_info": {
   "codemirror_mode": {
    "name": "ipython",
    "version": 3
   },
   "file_extension": ".py",
   "mimetype": "text/x-python",
   "name": "python",
   "nbconvert_exporter": "python",
   "pygments_lexer": "ipython3",
   "version": "3.6.5"
  }
 },
 "nbformat": 4,
 "nbformat_minor": 4
}
